{
 "cells": [
  {
   "cell_type": "code",
   "execution_count": 1,
   "id": "19e11e61-7164-4593-8d87-7e85d89e652f",
   "metadata": {},
   "outputs": [],
   "source": [
    "from pyspark.sql import SparkSession\n",
    "from pyspark.sql.functions import lower\n",
    "from pyspark.sql.functions import col\n",
    "from pyspark.sql.functions import (col, when)\n",
    "from pyspark.sql.functions import month, max, date_format\n",
    "import calendar"
   ]
  },
  {
   "cell_type": "code",
   "execution_count": 2,
   "id": "c903a752-b773-4c07-a343-3e638f51580b",
   "metadata": {},
   "outputs": [],
   "source": [
    "spark = SparkSession.builder.appName(\"test_app\").getOrCreate()"
   ]
  },
  {
   "cell_type": "code",
   "execution_count": 3,
   "id": "ac502354-4f28-41dc-9946-860e826f5336",
   "metadata": {},
   "outputs": [],
   "source": [
    "df = spark.read.csv(\"complete.csv\", header=True, inferSchema=True)"
   ]
  },
  {
   "cell_type": "code",
   "execution_count": 4,
   "id": "86e9a3a5-a8a1-4d0a-a571-1005b8309214",
   "metadata": {},
   "outputs": [],
   "source": [
    "df = df.withColumn(\"State\", lower(df[\"Name of State / UT\"]))"
   ]
  },
  {
   "cell_type": "code",
   "execution_count": 5,
   "id": "7cdf8866-83aa-4b6a-88fc-8b02ca749be5",
   "metadata": {},
   "outputs": [
    {
     "name": "stdout",
     "output_type": "stream",
     "text": [
      "+----------+------------------+--------+---------+---------------------+-----+-------------------------+---------+----------+-------------+------+\n",
      "|      Date|Name of State / UT|Latitude|Longitude|Total Confirmed cases|Death|Cured/Discharged/Migrated|New cases|New deaths|New recovered| State|\n",
      "+----------+------------------+--------+---------+---------------------+-----+-------------------------+---------+----------+-------------+------+\n",
      "|2020-01-30|            Kerala| 10.8505|  76.2711|                  1.0|    0|                      0.0|        0|         0|            0|kerala|\n",
      "|2020-01-31|            Kerala| 10.8505|  76.2711|                  1.0|    0|                      0.0|        0|         0|            0|kerala|\n",
      "|2020-02-01|            Kerala| 10.8505|  76.2711|                  2.0|    0|                      0.0|        1|         0|            0|kerala|\n",
      "|2020-02-02|            Kerala| 10.8505|  76.2711|                  3.0|    0|                      0.0|        1|         0|            0|kerala|\n",
      "|2020-02-03|            Kerala| 10.8505|  76.2711|                  3.0|    0|                      0.0|        0|         0|            0|kerala|\n",
      "|2020-02-04|            Kerala| 10.8505|  76.2711|                  3.0|    0|                      0.0|        0|         0|            0|kerala|\n",
      "|2020-02-05|            Kerala| 10.8505|  76.2711|                  3.0|    0|                      0.0|        0|         0|            0|kerala|\n",
      "|2020-02-06|            Kerala| 10.8505|  76.2711|                  3.0|    0|                      0.0|        0|         0|            0|kerala|\n",
      "|2020-02-07|            Kerala| 10.8505|  76.2711|                  3.0|    0|                      0.0|        0|         0|            0|kerala|\n",
      "|2020-02-08|            Kerala| 10.8505|  76.2711|                  3.0|    0|                      0.0|        0|         0|            0|kerala|\n",
      "|2020-02-09|            Kerala| 10.8505|  76.2711|                  3.0|    0|                      0.0|        0|         0|            0|kerala|\n",
      "|2020-02-10|            Kerala| 10.8505|  76.2711|                  3.0|    0|                      0.0|        0|         0|            0|kerala|\n",
      "|2020-02-11|            Kerala| 10.8505|  76.2711|                  3.0|    0|                      0.0|        0|         0|            0|kerala|\n",
      "|2020-02-12|            Kerala| 10.8505|  76.2711|                  3.0|    0|                      0.0|        0|         0|            0|kerala|\n",
      "|2020-02-13|            Kerala| 10.8505|  76.2711|                  3.0|    0|                      0.0|        0|         0|            0|kerala|\n",
      "|2020-02-14|            Kerala| 10.8505|  76.2711|                  3.0|    0|                      0.0|        0|         0|            0|kerala|\n",
      "|2020-02-15|            Kerala| 10.8505|  76.2711|                  3.0|    0|                      0.0|        0|         0|            0|kerala|\n",
      "|2020-02-16|            Kerala| 10.8505|  76.2711|                  3.0|    0|                      0.0|        0|         0|            0|kerala|\n",
      "|2020-02-17|            Kerala| 10.8505|  76.2711|                  3.0|    0|                      0.0|        0|         0|            0|kerala|\n",
      "|2020-02-18|            Kerala| 10.8505|  76.2711|                  3.0|    0|                      0.0|        0|         0|            0|kerala|\n",
      "+----------+------------------+--------+---------+---------------------+-----+-------------------------+---------+----------+-------------+------+\n",
      "only showing top 20 rows\n",
      "\n"
     ]
    }
   ],
   "source": [
    "df.show()"
   ]
  },
  {
   "cell_type": "markdown",
   "id": "dc39088f-2f5e-492b-b6f1-43cb6be4a120",
   "metadata": {},
   "source": [
    "Day with the greater number of COVID Cases"
   ]
  },
  {
   "cell_type": "code",
   "execution_count": 6,
   "id": "2e4167f8-8ed6-4686-a8a4-f78ebf33ab3d",
   "metadata": {},
   "outputs": [
    {
     "name": "stdout",
     "output_type": "stream",
     "text": [
      "2020-08-06\n"
     ]
    }
   ],
   "source": [
    "max_cases_day = df.orderBy(col(\"Total Confirmed cases\").desc()).first()\n",
    "print(max_cases_day['Date'])"
   ]
  },
  {
   "cell_type": "markdown",
   "id": "a74194b3-3404-485c-8f2e-78300a719218",
   "metadata": {},
   "source": [
    "State with the Second-Largest Number of COVID Cases"
   ]
  },
  {
   "cell_type": "code",
   "execution_count": 7,
   "id": "d4afcd40-693f-4ecf-9070-2578f33356ea",
   "metadata": {},
   "outputs": [
    {
     "name": "stdout",
     "output_type": "stream",
     "text": [
      "punjab\n"
     ]
    }
   ],
   "source": [
    "second_max_cases_state = df.orderBy(col(\"Total Confirmed cases\").desc()).distinct().collect()[1]\n",
    "print(second_max_cases_state['State'])"
   ]
  },
  {
   "cell_type": "markdown",
   "id": "e7858bd0-3505-46d3-b572-042c26a89a5e",
   "metadata": {},
   "source": [
    "Union Territory with the Least Number of Deaths"
   ]
  },
  {
   "cell_type": "code",
   "execution_count": 8,
   "id": "8d24cd67-0af6-4c8f-b13f-e90d6f4f0ccb",
   "metadata": {},
   "outputs": [
    {
     "name": "stdout",
     "output_type": "stream",
     "text": [
      "union territory of ladakh\n"
     ]
    }
   ],
   "source": [
    "ut_df = df.filter(col(\"Name of State / UT\").contains(\"Union Territory\"))\n",
    "ut_least_deaths = ut_df.orderBy(col(\"Death\").asc()).first()\n",
    "print(ut_least_deaths['State'])"
   ]
  },
  {
   "cell_type": "markdown",
   "id": "aba088b0-b61d-40e7-bbdd-9ec2aec40206",
   "metadata": {},
   "source": [
    "State with the Lowest Death to Total Confirmed Cases Ratio"
   ]
  },
  {
   "cell_type": "code",
   "execution_count": 9,
   "id": "26093437-e233-4020-b974-f8b298a21719",
   "metadata": {},
   "outputs": [
    {
     "name": "stdout",
     "output_type": "stream",
     "text": [
      "puducherry\n"
     ]
    }
   ],
   "source": [
    "df = df.withColumn(\"DeathToConfirmedRatio\", col(\"Death\") / col(\"Total Confirmed cases\"))\n",
    "min_ratio_state = df.orderBy(col(\"DeathToConfirmedRatio\").asc()).first()\n",
    "print(min_ratio_state['State'])"
   ]
  },
  {
   "cell_type": "markdown",
   "id": "eb0826c9-437f-4c2d-92a4-09b1cee87b43",
   "metadata": {},
   "source": [
    "Month with the Most Newer Recovered Cases"
   ]
  },
  {
   "cell_type": "code",
   "execution_count": 10,
   "id": "3cd5f670-bc5d-4bd4-b98e-ac176cd6e6c2",
   "metadata": {},
   "outputs": [
    {
     "name": "stdout",
     "output_type": "stream",
     "text": [
      "July\n"
     ]
    }
   ],
   "source": [
    "df = df.withColumn(\"Month\", month(col(\"Date\")))\n",
    "monthly_recovered = df.groupBy(\"Month\").sum(\"New recovered\")\n",
    "max_recovered_month = monthly_recovered.orderBy(col(\"sum(New recovered)\").desc()).first()\n",
    "month_name = calendar.month_name[max_recovered_month['Month']]\n",
    "print(month_name)"
   ]
  }
 ],
 "metadata": {
  "kernelspec": {
   "display_name": "Python 3 (ipykernel)",
   "language": "python",
   "name": "python3"
  },
  "language_info": {
   "codemirror_mode": {
    "name": "ipython",
    "version": 3
   },
   "file_extension": ".py",
   "mimetype": "text/x-python",
   "name": "python",
   "nbconvert_exporter": "python",
   "pygments_lexer": "ipython3",
   "version": "3.12.4"
  }
 },
 "nbformat": 4,
 "nbformat_minor": 5
}
